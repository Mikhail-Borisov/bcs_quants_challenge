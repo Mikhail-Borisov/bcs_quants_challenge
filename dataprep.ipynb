{
 "cells": [
  {
   "cell_type": "code",
   "execution_count": null,
   "metadata": {
    "collapsed": false
   },
   "outputs": [],
   "source": [
    "import numpy as np\n",
    "import pandas as pd\n",
    "import xgboost as xgb\n",
    "%matplotlib inline"
   ]
  },
  {
   "cell_type": "code",
   "execution_count": null,
   "metadata": {
    "collapsed": false
   },
   "outputs": [],
   "source": [
    "path = './data/m1/USD000UTSTOM/'"
   ]
  },
  {
   "cell_type": "code",
   "execution_count": null,
   "metadata": {
    "collapsed": false
   },
   "outputs": [],
   "source": [
    "np.load(path + 'time.npy', encoding='bytes')"
   ]
  },
  {
   "cell_type": "code",
   "execution_count": null,
   "metadata": {
    "collapsed": true
   },
   "outputs": [],
   "source": [
    "def get_pd_full_ticker_data(ticker, freq, lags=1, y_forward_shift = 0):\n",
    "    path = './data/'\n",
    "    path += freq +'/'\n",
    "    path += ticker +'/'\n",
    "    \n",
    "    final = pd.DataFrame()\n",
    "    final['close'] = np.load(path + 'close.npy')\n",
    "    final['open'] = np.load(path + 'open.npy')\n",
    "    final['open'] = (final['close'] - final['open'])/final['close']\n",
    "    final['high'] = np.load(path + 'high.npy')\n",
    "    final['high'] = (final['close'] - final['high'])/final['close']\n",
    "    final['low'] = np.load(path + 'low.npy')\n",
    "    final['low'] = (final['close'] - final['low'])/final['close']\n",
    "    final['time'] = np.load(path + 'time.npy', encoding='bytes')\n",
    "    final['count'] = np.load(path + 'count.npy')\n",
    "    final['volume'] = np.load(path + 'volume.npy')\n",
    "    final['close'] = final.close.pct_change()\n",
    "    final = final.set_index('time')\n",
    "    for i in range(1, lags+1):\n",
    "        for column in ['open', 'high', 'low', 'count', 'volume', 'close']:\n",
    "            final[column + '_lag' + str(i)] = final[column].shift(i)\n",
    "    del final['open']\n",
    "    del final['high']\n",
    "    del final['low']\n",
    "    del final['count']\n",
    "    del final['volume']\n",
    "    final['close'] = final['close'].shift(-y_forward_shift)\n",
    "    final = final.dropna(axis=0)\n",
    "    y = final['close']\n",
    "    del final['close']\n",
    "    return y, final.dropna(axis=0)"
   ]
  },
  {
   "cell_type": "code",
   "execution_count": null,
   "metadata": {
    "collapsed": false
   },
   "outputs": [],
   "source": [
    "y, X = get_pd_full_ticker_data('USD000UTSTOM', 'm1')"
   ]
  },
  {
   "cell_type": "code",
   "execution_count": null,
   "metadata": {
    "collapsed": false
   },
   "outputs": [],
   "source": [
    "X.head()"
   ]
  },
  {
   "cell_type": "code",
   "execution_count": null,
   "metadata": {
    "collapsed": true
   },
   "outputs": [],
   "source": [
    "from statsmodels.graphics.tsaplots import plot_acf, plot_pacf"
   ]
  },
  {
   "cell_type": "code",
   "execution_count": null,
   "metadata": {
    "collapsed": false
   },
   "outputs": [],
   "source": [
    "plot_acf(X.volume_lag1, lags=100)"
   ]
  },
  {
   "cell_type": "code",
   "execution_count": null,
   "metadata": {
    "collapsed": false
   },
   "outputs": [],
   "source": [
    "plot_pacf(X.volume_lag1, lags=100)"
   ]
  },
  {
   "cell_type": "code",
   "execution_count": null,
   "metadata": {
    "collapsed": true
   },
   "outputs": [],
   "source": [
    "import xgboost as xgb"
   ]
  },
  {
   "cell_type": "code",
   "execution_count": null,
   "metadata": {
    "collapsed": true
   },
   "outputs": [],
   "source": [
    "param = {'max_depth': 5, 'min_child_weight': 6, 'eta': 0.05, 'silent': 1, 'objective': 'reg:linear',\n",
    "         'subsample': 0.5, 'colsample_bytree': 1.0, 'colsample_bylevel': 1.0}"
   ]
  },
  {
   "cell_type": "code",
   "execution_count": null,
   "metadata": {
    "collapsed": true
   },
   "outputs": [],
   "source": [
    "y, X = get_pd_full_ticker_data('USD000UTSTOM', 'm1', lags=10, y_forward_shift=5)\n",
    "dmatrix = xgb.DMatrix(X, y)"
   ]
  },
  {
   "cell_type": "code",
   "execution_count": null,
   "metadata": {
    "collapsed": false
   },
   "outputs": [],
   "source": [
    "X.shape"
   ]
  },
  {
   "cell_type": "code",
   "execution_count": null,
   "metadata": {
    "collapsed": true
   },
   "outputs": [],
   "source": [
    "cv = xgb.cv(param, dmatrix, num_boost_round=300, nfold=5, metrics={'rmse'})"
   ]
  },
  {
   "cell_type": "code",
   "execution_count": null,
   "metadata": {
    "collapsed": false
   },
   "outputs": [],
   "source": [
    "cv.loc[150:, ['test-rmse-mean', 'train-rmse-mean']].plot()"
   ]
  },
  {
   "cell_type": "code",
   "execution_count": null,
   "metadata": {
    "collapsed": false
   },
   "outputs": [],
   "source": [
    "print(cv.loc[199, 'test-rmse-mean'])"
   ]
  },
  {
   "cell_type": "code",
   "execution_count": null,
   "metadata": {
    "collapsed": false,
    "scrolled": true
   },
   "outputs": [],
   "source": [
    "print(cv.loc[199, 'test-rmse-mean'])"
   ]
  },
  {
   "cell_type": "code",
   "execution_count": null,
   "metadata": {
    "collapsed": false,
    "scrolled": true
   },
   "outputs": [],
   "source": [
    "print(cv.loc[199, 'test-rmse-mean'])"
   ]
  },
  {
   "cell_type": "code",
   "execution_count": null,
   "metadata": {
    "collapsed": true
   },
   "outputs": [],
   "source": [
    "model = xgb.train(param, dmatrix, num_boost_round=200)"
   ]
  },
  {
   "cell_type": "code",
   "execution_count": null,
   "metadata": {
    "collapsed": false,
    "scrolled": true
   },
   "outputs": [],
   "source": [
    "pd.Series(model.get_fscore()).sort_values(ascending=False)"
   ]
  },
  {
   "cell_type": "code",
   "execution_count": null,
   "metadata": {
    "collapsed": false
   },
   "outputs": [],
   "source": [
    "predicted = model.predict(dmatrix)\n",
    "X['predicted'] = predicted + 0.00000001\n",
    "X['error'] = y - X['predicted']\n",
    "X['actual'] = y + 0.00000001\n",
    "# X.plot(kind='scatter', x='predicted', y='error', figsize=(12,12), xlim=[-0.03, 0.03], ylim=[-0.03, 0.03])"
   ]
  },
  {
   "cell_type": "code",
   "execution_count": null,
   "metadata": {
    "collapsed": false
   },
   "outputs": [],
   "source": [
    "X['right'] = np.sign(X['actual']) * np.sign(X['predicted'])"
   ]
  },
  {
   "cell_type": "code",
   "execution_count": null,
   "metadata": {
    "collapsed": true
   },
   "outputs": [],
   "source": [
    "X['pnl'] = np.abs(X['actual'])*X['right']"
   ]
  },
  {
   "cell_type": "code",
   "execution_count": null,
   "metadata": {
    "collapsed": false,
    "scrolled": true
   },
   "outputs": [],
   "source": [
    "X['pnl']"
   ]
  },
  {
   "cell_type": "code",
   "execution_count": null,
   "metadata": {
    "collapsed": false
   },
   "outputs": [],
   "source": [
    "np.abs(X['predicted']).describe()"
   ]
  },
  {
   "cell_type": "code",
   "execution_count": null,
   "metadata": {
    "collapsed": false
   },
   "outputs": [],
   "source": [
    "np.abs(X['predicted']).quantile(0.25)"
   ]
  },
  {
   "cell_type": "code",
   "execution_count": null,
   "metadata": {
    "collapsed": false
   },
   "outputs": [],
   "source": [
    "start = 1\n",
    "for return_value in X['pnl'].values:\n",
    "    start = start*(1+return_value)\n",
    "print(start)"
   ]
  },
  {
   "cell_type": "code",
   "execution_count": null,
   "metadata": {
    "collapsed": false
   },
   "outputs": [],
   "source": [
    "X['pnl'].sum()"
   ]
  },
  {
   "cell_type": "code",
   "execution_count": null,
   "metadata": {
    "collapsed": false
   },
   "outputs": [],
   "source": [
    "X.loc[np.abs(X.predicted)>np.abs(X['predicted']).quantile(0.25),'pnl'].sum()"
   ]
  },
  {
   "cell_type": "code",
   "execution_count": null,
   "metadata": {
    "collapsed": true
   },
   "outputs": [],
   "source": [
    ""
   ]
  }
 ],
 "metadata": {
  "anaconda-cloud": {},
  "kernelspec": {
   "display_name": "Python [conda root]",
   "language": "python",
   "name": "conda-root-py"
  },
  "language_info": {
   "codemirror_mode": {
    "name": "ipython",
    "version": 3.0
   },
   "file_extension": ".py",
   "mimetype": "text/x-python",
   "name": "python",
   "nbconvert_exporter": "python",
   "pygments_lexer": "ipython3",
   "version": "3.5.2"
  }
 },
 "nbformat": 4,
 "nbformat_minor": 0
}
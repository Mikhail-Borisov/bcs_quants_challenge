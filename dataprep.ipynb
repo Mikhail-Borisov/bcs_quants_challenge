{
 "cells": [
  {
   "cell_type": "code",
   "execution_count": 98,
   "metadata": {
    "collapsed": false
   },
   "outputs": [],
   "source": [
    "import numpy as np\n",
    "import pandas as pd\n",
    "import xgboost as xgb\n",
    "%matplotlib inline"
   ]
  },
  {
   "cell_type": "code",
   "execution_count": 6,
   "metadata": {
    "collapsed": false
   },
   "outputs": [],
   "source": [
    "path = '/home/gleb/TradingDataSets/BSC/data/m1/USD000UTSTOM/'"
   ]
  },
  {
   "cell_type": "code",
   "execution_count": 8,
   "metadata": {
    "collapsed": false
   },
   "outputs": [
    {
     "data": {
      "text/plain": [
       "array([datetime.datetime(2015, 1, 5, 10, 0),\n",
       "       datetime.datetime(2015, 1, 5, 10, 1),\n",
       "       datetime.datetime(2015, 1, 5, 10, 2), ...,\n",
       "       datetime.datetime(2016, 8, 31, 18, 33),\n",
       "       datetime.datetime(2016, 8, 31, 18, 34),\n",
       "       datetime.datetime(2016, 8, 31, 18, 35)], dtype=object)"
      ]
     },
     "execution_count": 8,
     "metadata": {},
     "output_type": "execute_result"
    }
   ],
   "source": [
    "np.load(path + 'time.npy')"
   ]
  },
  {
   "cell_type": "code",
   "execution_count": 79,
   "metadata": {
    "collapsed": true
   },
   "outputs": [],
   "source": [
    "def get_pd_full_ticker_data(ticker, freq, lags=1, y_forward_shift = 0):\n",
    "    path = '/home/gleb/TradingDataSets/BSC/data/'\n",
    "    path += freq +'/'\n",
    "    path += ticker +'/'\n",
    "    \n",
    "    final = pd.DataFrame()\n",
    "    final['close'] = np.load(path + 'close.npy')\n",
    "    final['open'] = np.load(path + 'open.npy')\n",
    "    final['open'] = (final['close'] - final['open'])/final['close']\n",
    "    final['high'] = np.load(path + 'high.npy')\n",
    "    final['high'] = (final['close'] - final['high'])/final['close']\n",
    "    final['low'] = np.load(path + 'low.npy')\n",
    "    final['low'] = (final['close'] - final['low'])/final['close']\n",
    "    final['time'] = np.load(path + 'time.npy')\n",
    "    final['count'] = np.load(path + 'count.npy')\n",
    "    final['volume'] = np.load(path + 'volume.npy')\n",
    "    final['close'] = final.close.pct_change()\n",
    "    final = final.set_index('time')\n",
    "    for i in range(1, lags+1):\n",
    "        for column in ['open', 'high', 'low', 'count', 'volume', 'close']:\n",
    "            final[column + '_lag' + str(i)] = final[column].shift(i)\n",
    "    del final['open']\n",
    "    del final['high']\n",
    "    del final['low']\n",
    "    del final['count']\n",
    "    del final['volume']\n",
    "    final['close'] = final['close'].shift(-y_forward_shift)\n",
    "    final = final.dropna(axis=0)\n",
    "    y = final['close']\n",
    "    del final['close']\n",
    "    return y, final.dropna(axis=0)"
   ]
  },
  {
   "cell_type": "code",
   "execution_count": 80,
   "metadata": {
    "collapsed": false
   },
   "outputs": [],
   "source": [
    "y, X = get_pd_full_ticker_data('USD000UTSTOM', 'm1')"
   ]
  },
  {
   "cell_type": "code",
   "execution_count": 145,
   "metadata": {
    "collapsed": false
   },
   "outputs": [
    {
     "data": {
      "text/html": [
       "<div>\n",
       "<table border=\"1\" class=\"dataframe\">\n",
       "  <thead>\n",
       "    <tr style=\"text-align: right;\">\n",
       "      <th></th>\n",
       "      <th>open_lag1</th>\n",
       "      <th>high_lag1</th>\n",
       "      <th>low_lag1</th>\n",
       "      <th>count_lag1</th>\n",
       "      <th>volume_lag1</th>\n",
       "      <th>close_lag1</th>\n",
       "      <th>open_lag2</th>\n",
       "      <th>high_lag2</th>\n",
       "      <th>low_lag2</th>\n",
       "      <th>count_lag2</th>\n",
       "      <th>...</th>\n",
       "      <th>low_lag9</th>\n",
       "      <th>count_lag9</th>\n",
       "      <th>volume_lag9</th>\n",
       "      <th>close_lag9</th>\n",
       "      <th>open_lag10</th>\n",
       "      <th>high_lag10</th>\n",
       "      <th>low_lag10</th>\n",
       "      <th>count_lag10</th>\n",
       "      <th>volume_lag10</th>\n",
       "      <th>close_lag10</th>\n",
       "    </tr>\n",
       "    <tr>\n",
       "      <th>time</th>\n",
       "      <th></th>\n",
       "      <th></th>\n",
       "      <th></th>\n",
       "      <th></th>\n",
       "      <th></th>\n",
       "      <th></th>\n",
       "      <th></th>\n",
       "      <th></th>\n",
       "      <th></th>\n",
       "      <th></th>\n",
       "      <th></th>\n",
       "      <th></th>\n",
       "      <th></th>\n",
       "      <th></th>\n",
       "      <th></th>\n",
       "      <th></th>\n",
       "      <th></th>\n",
       "      <th></th>\n",
       "      <th></th>\n",
       "      <th></th>\n",
       "      <th></th>\n",
       "    </tr>\n",
       "  </thead>\n",
       "  <tbody>\n",
       "    <tr>\n",
       "      <th>2015-01-05 10:11:00</th>\n",
       "      <td>0.001394</td>\n",
       "      <td>-0.001256</td>\n",
       "      <td>0.005557</td>\n",
       "      <td>65.0</td>\n",
       "      <td>1356000.0</td>\n",
       "      <td>0.000516</td>\n",
       "      <td>-0.006696</td>\n",
       "      <td>-0.006963</td>\n",
       "      <td>0.000878</td>\n",
       "      <td>61.0</td>\n",
       "      <td>...</td>\n",
       "      <td>0.004971</td>\n",
       "      <td>117.0</td>\n",
       "      <td>7626000.0</td>\n",
       "      <td>0.004220</td>\n",
       "      <td>0.002432</td>\n",
       "      <td>-0.000729</td>\n",
       "      <td>0.003280</td>\n",
       "      <td>97.0</td>\n",
       "      <td>11446000.0</td>\n",
       "      <td>0.005111</td>\n",
       "    </tr>\n",
       "    <tr>\n",
       "      <th>2015-01-05 10:12:00</th>\n",
       "      <td>0.001254</td>\n",
       "      <td>-0.001392</td>\n",
       "      <td>0.002363</td>\n",
       "      <td>28.0</td>\n",
       "      <td>364000.0</td>\n",
       "      <td>0.001256</td>\n",
       "      <td>0.001394</td>\n",
       "      <td>-0.001256</td>\n",
       "      <td>0.005557</td>\n",
       "      <td>65.0</td>\n",
       "      <td>...</td>\n",
       "      <td>0.000861</td>\n",
       "      <td>81.0</td>\n",
       "      <td>4369000.0</td>\n",
       "      <td>0.000034</td>\n",
       "      <td>0.004211</td>\n",
       "      <td>-0.000608</td>\n",
       "      <td>0.004971</td>\n",
       "      <td>117.0</td>\n",
       "      <td>7626000.0</td>\n",
       "      <td>0.004220</td>\n",
       "    </tr>\n",
       "    <tr>\n",
       "      <th>2015-01-05 10:13:00</th>\n",
       "      <td>-0.001272</td>\n",
       "      <td>-0.001968</td>\n",
       "      <td>0.000679</td>\n",
       "      <td>30.0</td>\n",
       "      <td>1358000.0</td>\n",
       "      <td>-0.000387</td>\n",
       "      <td>0.001254</td>\n",
       "      <td>-0.001392</td>\n",
       "      <td>0.002363</td>\n",
       "      <td>28.0</td>\n",
       "      <td>...</td>\n",
       "      <td>0.000034</td>\n",
       "      <td>93.0</td>\n",
       "      <td>5371000.0</td>\n",
       "      <td>-0.006371</td>\n",
       "      <td>-0.000270</td>\n",
       "      <td>-0.001662</td>\n",
       "      <td>0.000861</td>\n",
       "      <td>81.0</td>\n",
       "      <td>4369000.0</td>\n",
       "      <td>0.000034</td>\n",
       "    </tr>\n",
       "    <tr>\n",
       "      <th>2015-01-05 10:14:00</th>\n",
       "      <td>0.000172</td>\n",
       "      <td>-0.000722</td>\n",
       "      <td>0.000989</td>\n",
       "      <td>15.0</td>\n",
       "      <td>774000.0</td>\n",
       "      <td>-0.000309</td>\n",
       "      <td>-0.001272</td>\n",
       "      <td>-0.001968</td>\n",
       "      <td>0.000679</td>\n",
       "      <td>30.0</td>\n",
       "      <td>...</td>\n",
       "      <td>0.009310</td>\n",
       "      <td>168.0</td>\n",
       "      <td>7377000.0</td>\n",
       "      <td>-0.013877</td>\n",
       "      <td>-0.006896</td>\n",
       "      <td>-0.006905</td>\n",
       "      <td>0.000034</td>\n",
       "      <td>93.0</td>\n",
       "      <td>5371000.0</td>\n",
       "      <td>-0.006371</td>\n",
       "    </tr>\n",
       "    <tr>\n",
       "      <th>2015-01-05 10:15:00</th>\n",
       "      <td>0.002796</td>\n",
       "      <td>0.000000</td>\n",
       "      <td>0.003431</td>\n",
       "      <td>37.0</td>\n",
       "      <td>1257000.0</td>\n",
       "      <td>0.002450</td>\n",
       "      <td>0.000172</td>\n",
       "      <td>-0.000722</td>\n",
       "      <td>0.000989</td>\n",
       "      <td>15.0</td>\n",
       "      <td>...</td>\n",
       "      <td>0.004330</td>\n",
       "      <td>78.0</td>\n",
       "      <td>4644000.0</td>\n",
       "      <td>0.004341</td>\n",
       "      <td>-0.014150</td>\n",
       "      <td>-0.014150</td>\n",
       "      <td>0.009310</td>\n",
       "      <td>168.0</td>\n",
       "      <td>7377000.0</td>\n",
       "      <td>-0.013877</td>\n",
       "    </tr>\n",
       "  </tbody>\n",
       "</table>\n",
       "<p>5 rows × 60 columns</p>\n",
       "</div>"
      ],
      "text/plain": [
       "                     open_lag1  high_lag1  low_lag1  count_lag1  volume_lag1  \\\n",
       "time                                                                           \n",
       "2015-01-05 10:11:00   0.001394  -0.001256  0.005557        65.0    1356000.0   \n",
       "2015-01-05 10:12:00   0.001254  -0.001392  0.002363        28.0     364000.0   \n",
       "2015-01-05 10:13:00  -0.001272  -0.001968  0.000679        30.0    1358000.0   \n",
       "2015-01-05 10:14:00   0.000172  -0.000722  0.000989        15.0     774000.0   \n",
       "2015-01-05 10:15:00   0.002796   0.000000  0.003431        37.0    1257000.0   \n",
       "\n",
       "                     close_lag1  open_lag2  high_lag2  low_lag2  count_lag2  \\\n",
       "time                                                                          \n",
       "2015-01-05 10:11:00    0.000516  -0.006696  -0.006963  0.000878        61.0   \n",
       "2015-01-05 10:12:00    0.001256   0.001394  -0.001256  0.005557        65.0   \n",
       "2015-01-05 10:13:00   -0.000387   0.001254  -0.001392  0.002363        28.0   \n",
       "2015-01-05 10:14:00   -0.000309  -0.001272  -0.001968  0.000679        30.0   \n",
       "2015-01-05 10:15:00    0.002450   0.000172  -0.000722  0.000989        15.0   \n",
       "\n",
       "                        ...       low_lag9  count_lag9  volume_lag9  \\\n",
       "time                    ...                                           \n",
       "2015-01-05 10:11:00     ...       0.004971       117.0    7626000.0   \n",
       "2015-01-05 10:12:00     ...       0.000861        81.0    4369000.0   \n",
       "2015-01-05 10:13:00     ...       0.000034        93.0    5371000.0   \n",
       "2015-01-05 10:14:00     ...       0.009310       168.0    7377000.0   \n",
       "2015-01-05 10:15:00     ...       0.004330        78.0    4644000.0   \n",
       "\n",
       "                     close_lag9  open_lag10  high_lag10  low_lag10  \\\n",
       "time                                                                 \n",
       "2015-01-05 10:11:00    0.004220    0.002432   -0.000729   0.003280   \n",
       "2015-01-05 10:12:00    0.000034    0.004211   -0.000608   0.004971   \n",
       "2015-01-05 10:13:00   -0.006371   -0.000270   -0.001662   0.000861   \n",
       "2015-01-05 10:14:00   -0.013877   -0.006896   -0.006905   0.000034   \n",
       "2015-01-05 10:15:00    0.004341   -0.014150   -0.014150   0.009310   \n",
       "\n",
       "                     count_lag10  volume_lag10  close_lag10  \n",
       "time                                                         \n",
       "2015-01-05 10:11:00         97.0    11446000.0     0.005111  \n",
       "2015-01-05 10:12:00        117.0     7626000.0     0.004220  \n",
       "2015-01-05 10:13:00         81.0     4369000.0     0.000034  \n",
       "2015-01-05 10:14:00         93.0     5371000.0    -0.006371  \n",
       "2015-01-05 10:15:00        168.0     7377000.0    -0.013877  \n",
       "\n",
       "[5 rows x 60 columns]"
      ]
     },
     "execution_count": 145,
     "metadata": {},
     "output_type": "execute_result"
    }
   ],
   "source": [
    "X.head()"
   ]
  },
  {
   "cell_type": "code",
   "execution_count": 38,
   "metadata": {
    "collapsed": true
   },
   "outputs": [],
   "source": [
    "from statsmodels.graphics.tsaplots import plot_acf, plot_pacf"
   ]
  },
  {
   "cell_type": "code",
   "execution_count": 86,
   "metadata": {
    "collapsed": false
   },
   "outputs": [
    {
     "data": {
      "image/png": "[encoded data removed]",
      "text/plain": [
       "<matplotlib.figure.Figure at 0x7f92a597b050>"
      ]
     },
     "execution_count": 86,
     "metadata": {},
     "output_type": "execute_result"
    }
   ],
   "source": [
    "plot_acf(X.volume_lag1, lags=100)"
   ]
  },
  {
   "cell_type": "code",
   "execution_count": 87,
   "metadata": {
    "collapsed": false
   },
   "outputs": [
    {
     "data": {
      "image/png": "[encoded data removed]",
      "text/plain": [
       "<matplotlib.figure.Figure at 0x7f92a5a26e10>"
      ]
     },
     "execution_count": 87,
     "metadata": {},
     "output_type": "execute_result"
    }
   ],
   "source": [
    "plot_pacf(X.volume_lag1, lags=100)"
   ]
  },
  {
   "cell_type": "code",
   "execution_count": 88,
   "metadata": {
    "collapsed": true
   },
   "outputs": [],
   "source": [
    "import xgboost as xgb"
   ]
  },
  {
   "cell_type": "code",
   "execution_count": 106,
   "metadata": {
    "collapsed": true
   },
   "outputs": [],
   "source": [
    "param = {'max_depth': 5, 'min_child_weight': 6, 'eta': 0.05, 'silent': 1, 'objective': 'reg:linear',\n",
    "         'subsample': 0.5, 'colsample_bytree': 1.0, 'colsample_bylevel': 1.0}"
   ]
  },
  {
   "cell_type": "code",
   "execution_count": 178,
   "metadata": {
    "collapsed": true
   },
   "outputs": [],
   "source": [
    "y, X = get_pd_full_ticker_data('USD000UTSTOM', 'm1', lags=10, y_forward_shift=5)\n",
    "dmatrix = xgb.DMatrix(X, y)"
   ]
  },
  {
   "cell_type": "code",
   "execution_count": 179,
   "metadata": {
    "collapsed": false
   },
   "outputs": [
    {
     "data": {
      "text/plain": [
       "(216300, 60)"
      ]
     },
     "execution_count": 179,
     "metadata": {},
     "output_type": "execute_result"
    }
   ],
   "source": [
    "X.shape"
   ]
  },
  {
   "cell_type": "code",
   "execution_count": 180,
   "metadata": {
    "collapsed": true
   },
   "outputs": [],
   "source": [
    "cv = xgb.cv(param, dmatrix, num_boost_round=300, nfold=5, metrics={'rmse'})"
   ]
  },
  {
   "cell_type": "code",
   "execution_count": 181,
   "metadata": {
    "collapsed": false
   },
   "outputs": [
    {
     "data": {
      "text/plain": [
       "<matplotlib.axes._subplots.AxesSubplot at 0x7f927d1e0410>"
      ]
     },
     "execution_count": 181,
     "metadata": {},
     "output_type": "execute_result"
    },
    {
     "data": {
      "image/png": "[encoded data removed]",
      "text/plain": [
       "<matplotlib.figure.Figure at 0x7f927d1e8c10>"
      ]
     },
     "metadata": {},
     "output_type": "display_data"
    }
   ],
   "source": [
    "cv.loc[150:, ['test-rmse-mean', 'train-rmse-mean']].plot()"
   ]
  },
  {
   "cell_type": "code",
   "execution_count": 182,
   "metadata": {
    "collapsed": false
   },
   "outputs": [
    {
     "name": "stdout",
     "output_type": "stream",
     "text": [
      "0.0006724\n"
     ]
    }
   ],
   "source": [
    "print(cv.loc[199, 'test-rmse-mean'])"
   ]
  },
  {
   "cell_type": "code",
   "execution_count": 127,
   "metadata": {
    "collapsed": false,
    "scrolled": true
   },
   "outputs": [
    {
     "name": "stdout",
     "output_type": "stream",
     "text": [
      "0.0006736\n"
     ]
    }
   ],
   "source": [
    "print(cv.loc[199, 'test-rmse-mean'])"
   ]
  },
  {
   "cell_type": "code",
   "execution_count": 132,
   "metadata": {
    "collapsed": false,
    "scrolled": true
   },
   "outputs": [
    {
     "name": "stdout",
     "output_type": "stream",
     "text": [
      "0.000673\n"
     ]
    }
   ],
   "source": [
    "print(cv.loc[199, 'test-rmse-mean'])"
   ]
  },
  {
   "cell_type": "code",
   "execution_count": 184,
   "metadata": {
    "collapsed": true
   },
   "outputs": [],
   "source": [
    "model = xgb.train(param, dmatrix, num_boost_round=200)"
   ]
  },
  {
   "cell_type": "code",
   "execution_count": 185,
   "metadata": {
    "collapsed": false,
    "scrolled": true
   },
   "outputs": [
    {
     "data": {
      "text/plain": [
       "count_lag5      137\n",
       "open_lag5        82\n",
       "open_lag9        42\n",
       "low_lag5         40\n",
       "open_lag1        38\n",
       "high_lag1        36\n",
       "open_lag3        35\n",
       "low_lag8         34\n",
       "open_lag7        30\n",
       "open_lag4        30\n",
       "low_lag1         29\n",
       "close_lag10      28\n",
       "open_lag10       27\n",
       "high_lag2        26\n",
       "open_lag6        25\n",
       "open_lag8        25\n",
       "low_lag2         24\n",
       "close_lag5       24\n",
       "volume_lag3      24\n",
       "close_lag4       24\n",
       "volume_lag5      24\n",
       "low_lag6         24\n",
       "high_lag4        24\n",
       "open_lag2        23\n",
       "low_lag4         23\n",
       "high_lag8        22\n",
       "high_lag3        22\n",
       "low_lag9         21\n",
       "high_lag6        20\n",
       "close_lag3       20\n",
       "count_lag8       19\n",
       "close_lag1       19\n",
       "close_lag9       17\n",
       "close_lag6       17\n",
       "high_lag5        17\n",
       "high_lag7        16\n",
       "count_lag6       15\n",
       "high_lag9        15\n",
       "count_lag2       14\n",
       "count_lag1       13\n",
       "low_lag10        13\n",
       "count_lag3       13\n",
       "volume_lag4      12\n",
       "low_lag7         12\n",
       "volume_lag2      12\n",
       "volume_lag8      12\n",
       "count_lag7       11\n",
       "count_lag4       11\n",
       "volume_lag10     11\n",
       "close_lag8       11\n",
       "close_lag7       10\n",
       "close_lag2       10\n",
       "high_lag10       10\n",
       "low_lag3         10\n",
       "volume_lag1       9\n",
       "volume_lag9       8\n",
       "count_lag10       7\n",
       "count_lag9        7\n",
       "volume_lag7       7\n",
       "volume_lag6       6\n",
       "dtype: int64"
      ]
     },
     "execution_count": 185,
     "metadata": {},
     "output_type": "execute_result"
    }
   ],
   "source": [
    "pd.Series(model.get_fscore()).sort_values(ascending=False)"
   ]
  },
  {
   "cell_type": "code",
   "execution_count": 186,
   "metadata": {
    "collapsed": false
   },
   "outputs": [],
   "source": [
    "predicted = model.predict(dmatrix)\n",
    "X['predicted'] = predicted + 0.00000001\n",
    "X['error'] = y - X['predicted']\n",
    "X['actual'] = y + 0.00000001\n",
    "# X.plot(kind='scatter', x='predicted', y='error', figsize=(12,12), xlim=[-0.03, 0.03], ylim=[-0.03, 0.03])"
   ]
  },
  {
   "cell_type": "code",
   "execution_count": 187,
   "metadata": {
    "collapsed": false
   },
   "outputs": [],
   "source": [
    "X['right'] = np.sign(X['actual']) * np.sign(X['predicted'])"
   ]
  },
  {
   "cell_type": "code",
   "execution_count": 188,
   "metadata": {
    "collapsed": true
   },
   "outputs": [],
   "source": [
    "X['pnl'] = np.abs(X['actual'])*X['right']"
   ]
  },
  {
   "cell_type": "code",
   "execution_count": 189,
   "metadata": {
    "collapsed": false,
    "scrolled": true
   },
   "outputs": [
    {
     "data": {
      "text/plain": [
       "time\n",
       "2015-01-05 10:11:00    1.025651e-03\n",
       "2015-01-05 10:12:00    6.907435e-03\n",
       "2015-01-05 10:13:00    3.396077e-03\n",
       "2015-01-05 10:14:00   -8.996867e-04\n",
       "2015-01-05 10:15:00    1.595174e-03\n",
       "2015-01-05 10:16:00    1.159654e-03\n",
       "2015-01-05 10:17:00    1.312731e-03\n",
       "2015-01-05 10:18:00    1.692473e-03\n",
       "2015-01-05 10:19:00    2.831335e-03\n",
       "2015-01-05 10:20:00    3.346816e-03\n",
       "2015-01-05 10:21:00    1.496773e-03\n",
       "2015-01-05 10:22:00    4.116341e-03\n",
       "2015-01-05 10:23:00    3.310132e-03\n",
       "2015-01-05 10:24:00    1.752177e-03\n",
       "2015-01-05 10:25:00   -1.382227e-03\n",
       "2015-01-05 10:26:00   -1.141747e-03\n",
       "2015-01-05 10:27:00    2.527671e-03\n",
       "2015-01-05 10:28:00    7.680050e-05\n",
       "2015-01-05 10:29:00    7.081147e-04\n",
       "2015-01-05 10:30:00    8.623145e-04\n",
       "2015-01-05 10:31:00   -1.100400e-03\n",
       "2015-01-05 10:32:00    8.710604e-04\n",
       "2015-01-05 10:33:00   -4.777975e-04\n",
       "2015-01-05 10:34:00   -1.000000e-08\n",
       "2015-01-05 10:35:00    4.609732e-04\n",
       "2015-01-05 10:36:00    1.919785e-03\n",
       "2015-01-05 10:37:00    5.385666e-04\n",
       "2015-01-05 10:38:00   -1.283116e-04\n",
       "2015-01-05 10:39:00    6.328835e-04\n",
       "2015-01-05 10:40:00    8.556935e-06\n",
       "                           ...     \n",
       "2016-08-31 18:01:00   -2.297166e-04\n",
       "2016-08-31 18:02:00    1.914928e-04\n",
       "2016-08-31 18:03:00    6.126378e-04\n",
       "2016-08-31 18:04:00    1.148074e-04\n",
       "2016-08-31 18:05:00    1.913170e-04\n",
       "2016-08-31 18:06:00   -1.912604e-04\n",
       "2016-08-31 18:07:00    1.000000e-08\n",
       "2016-08-31 18:08:00   -2.295584e-04\n",
       "2016-08-31 18:09:00    1.530908e-04\n",
       "2016-08-31 18:10:00   -7.651866e-05\n",
       "2016-08-31 18:11:00    4.209498e-04\n",
       "2016-08-31 18:12:00    5.355262e-04\n",
       "2016-08-31 18:13:00    1.529327e-04\n",
       "2016-08-31 18:14:00    5.351577e-04\n",
       "2016-08-31 18:15:00   -1.528076e-04\n",
       "2016-08-31 18:16:00   -1.146207e-04\n",
       "2016-08-31 18:17:00   -4.203507e-04\n",
       "2016-08-31 18:18:00   -1.146821e-04\n",
       "2016-08-31 18:19:00   -8.029265e-04\n",
       "2016-08-31 18:20:00   -3.825579e-05\n",
       "2016-08-31 18:21:00    4.209498e-04\n",
       "2016-08-31 18:22:00   -5.355062e-04\n",
       "2016-08-31 18:23:00    2.296399e-04\n",
       "2016-08-31 18:24:00    3.827287e-05\n",
       "2016-08-31 18:25:00    3.061012e-04\n",
       "2016-08-31 18:26:00   -4.207366e-04\n",
       "2016-08-31 18:27:00    1.913390e-04\n",
       "2016-08-31 18:28:00   -1.530239e-04\n",
       "2016-08-31 18:29:00   -2.295760e-04\n",
       "2016-08-31 18:30:00    3.444681e-04\n",
       "Name: pnl, dtype: float64"
      ]
     },
     "execution_count": 189,
     "metadata": {},
     "output_type": "execute_result"
    }
   ],
   "source": [
    "X['pnl']"
   ]
  },
  {
   "cell_type": "code",
   "execution_count": 194,
   "metadata": {
    "collapsed": false
   },
   "outputs": [
    {
     "data": {
      "text/plain": [
       "count    2.163000e+05\n",
       "mean     2.184312e-05\n",
       "std      5.635507e-05\n",
       "min      1.000000e-08\n",
       "25%      1.792120e-05\n",
       "50%      1.792120e-05\n",
       "75%      1.792120e-05\n",
       "max      1.382111e-02\n",
       "Name: predicted, dtype: float64"
      ]
     },
     "execution_count": 194,
     "metadata": {},
     "output_type": "execute_result"
    }
   ],
   "source": [
    "np.abs(X['predicted']).describe()"
   ]
  },
  {
   "cell_type": "code",
   "execution_count": 195,
   "metadata": {
    "collapsed": false
   },
   "outputs": [
    {
     "data": {
      "text/plain": [
       "1.7921196558745578e-05"
      ]
     },
     "execution_count": 195,
     "metadata": {},
     "output_type": "execute_result"
    }
   ],
   "source": [
    "np.abs(X['predicted']).quantile(0.25)"
   ]
  },
  {
   "cell_type": "code",
   "execution_count": 190,
   "metadata": {
    "collapsed": false
   },
   "outputs": [
    {
     "name": "stdout",
     "output_type": "stream",
     "text": [
      "25.9544832429\n"
     ]
    }
   ],
   "source": [
    "start = 1\n",
    "for return_value in X['pnl'].values:\n",
    "    start = start*(1+return_value)\n",
    "print(start)"
   ]
  },
  {
   "cell_type": "code",
   "execution_count": 191,
   "metadata": {
    "collapsed": false
   },
   "outputs": [
    {
     "data": {
      "text/plain": [
       "3.304967242961073"
      ]
     },
     "execution_count": 191,
     "metadata": {},
     "output_type": "execute_result"
    }
   ],
   "source": [
    "X['pnl'].sum()"
   ]
  },
  {
   "cell_type": "code",
   "execution_count": 197,
   "metadata": {
    "collapsed": false
   },
   "outputs": [
    {
     "data": {
      "text/plain": [
       "3.442141846748123"
      ]
     },
     "execution_count": 197,
     "metadata": {},
     "output_type": "execute_result"
    }
   ],
   "source": [
    "X.loc[np.abs(X.predicted)>np.abs(X['predicted']).quantile(0.25),'pnl'].sum()"
   ]
  },
  {
   "cell_type": "code",
   "execution_count": null,
   "metadata": {
    "collapsed": true
   },
   "outputs": [],
   "source": []
  }
 ],
 "metadata": {
  "anaconda-cloud": {},
  "kernelspec": {
   "display_name": "Python 2",
   "language": "python",
   "name": "python2"
  },
  "language_info": {
   "codemirror_mode": {
    "name": "ipython",
    "version": 2
   },
   "file_extension": ".py",
   "mimetype": "text/x-python",
   "name": "python",
   "nbconvert_exporter": "python",
   "pygments_lexer": "ipython2",
   "version": "2.7.12"
  }
 },
 "nbformat": 4,
 "nbformat_minor": 1
}
